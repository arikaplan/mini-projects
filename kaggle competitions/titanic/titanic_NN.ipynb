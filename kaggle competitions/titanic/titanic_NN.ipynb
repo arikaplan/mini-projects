{
 "cells": [
  {
   "cell_type": "code",
   "execution_count": 24,
   "id": "ae0ba843",
   "metadata": {},
   "outputs": [],
   "source": [
    "import pandas as pd\n",
    "import numpy as np\n",
    "import matplotlib.pyplot as plt\n",
    "import seaborn as sns\n",
    "from sklearn.model_selection import train_test_split\n",
    "from sklearn import base\n",
    "from sklearn.compose import ColumnTransformer\n",
    "from sklearn.pipeline import Pipeline\n",
    "from sklearn.linear_model import LinearRegression, Ridge, RidgeCV\n",
    "from sklearn.preprocessing import OneHotEncoder\n",
    "from sklearn.preprocessing import StandardScaler\n",
    "from sklearn.linear_model import LogisticRegression\n",
    "from sklearn.metrics import mean_squared_error\n",
    "from sklearn.metrics import accuracy_score\n",
    "import re\n",
    "from sklearn.model_selection import GridSearchCV\n",
    "from sklearn.linear_model import RidgeClassifier\n",
    "from sklearn.model_selection import cross_val_score\n",
    "from sklearn.impute import SimpleImputer\n",
    "from sklearn.ensemble import RandomForestClassifier\n",
    "import tensorflow as tf\n",
    "from tensorflow import keras\n",
    "from tensorflow.keras.utils import to_categorical as one_hot\n",
    "import tensorflow_decision_forests as tfdf\n",
    "from sklearn.preprocessing import OrdinalEncoder\n",
    "sns.set()"
   ]
  },
  {
   "cell_type": "code",
   "execution_count": 41,
   "id": "7ab2c60d",
   "metadata": {},
   "outputs": [],
   "source": [
    "test = pd.read_csv('data/test.csv')\n",
    "train = pd.read_csv('data/train.csv')"
   ]
  },
  {
   "cell_type": "code",
   "execution_count": 42,
   "id": "a96ec476",
   "metadata": {},
   "outputs": [
    {
     "data": {
      "text/plain": [
       "<Axes: xlabel='Survived', ylabel='Count'>"
      ]
     },
     "execution_count": 42,
     "metadata": {},
     "output_type": "execute_result"
    },
    {
     "data": {
      "image/png": "[encoded data removed]",
      "text/plain": [
       "<Figure size 640x480 with 1 Axes>"
      ]
     },
     "metadata": {},
     "output_type": "display_data"
    }
   ],
   "source": [
    "sns.histplot(train, x=\"Survived\", hue=\"Sex\")"
   ]
  },
  {
   "cell_type": "code",
   "execution_count": 43,
   "id": "77301c43",
   "metadata": {},
   "outputs": [
    {
     "data": {
      "text/html": [
       "<div>\n",
       "<style scoped>\n",
       "    .dataframe tbody tr th:only-of-type {\n",
       "        vertical-align: middle;\n",
       "    }\n",
       "\n",
       "    .dataframe tbody tr th {\n",
       "        vertical-align: top;\n",
       "    }\n",
       "\n",
       "    .dataframe thead th {\n",
       "        text-align: right;\n",
       "    }\n",
       "</style>\n",
       "<table border=\"1\" class=\"dataframe\">\n",
       "  <thead>\n",
       "    <tr style=\"text-align: right;\">\n",
       "      <th></th>\n",
       "      <th>PassengerId</th>\n",
       "      <th>Pclass</th>\n",
       "      <th>Name</th>\n",
       "      <th>Sex</th>\n",
       "      <th>Age</th>\n",
       "      <th>SibSp</th>\n",
       "      <th>Parch</th>\n",
       "      <th>Ticket</th>\n",
       "      <th>Fare</th>\n",
       "      <th>Cabin</th>\n",
       "      <th>Embarked</th>\n",
       "    </tr>\n",
       "  </thead>\n",
       "  <tbody>\n",
       "    <tr>\n",
       "      <th>0</th>\n",
       "      <td>1</td>\n",
       "      <td>3</td>\n",
       "      <td>Braund, Mr. Owen Harris</td>\n",
       "      <td>male</td>\n",
       "      <td>22.0</td>\n",
       "      <td>1</td>\n",
       "      <td>0</td>\n",
       "      <td>A/5 21171</td>\n",
       "      <td>7.2500</td>\n",
       "      <td>NaN</td>\n",
       "      <td>S</td>\n",
       "    </tr>\n",
       "    <tr>\n",
       "      <th>1</th>\n",
       "      <td>2</td>\n",
       "      <td>1</td>\n",
       "      <td>Cumings, Mrs. John Bradley (Florence Briggs Th...</td>\n",
       "      <td>female</td>\n",
       "      <td>38.0</td>\n",
       "      <td>1</td>\n",
       "      <td>0</td>\n",
       "      <td>PC 17599</td>\n",
       "      <td>71.2833</td>\n",
       "      <td>C85</td>\n",
       "      <td>C</td>\n",
       "    </tr>\n",
       "    <tr>\n",
       "      <th>2</th>\n",
       "      <td>3</td>\n",
       "      <td>3</td>\n",
       "      <td>Heikkinen, Miss. Laina</td>\n",
       "      <td>female</td>\n",
       "      <td>26.0</td>\n",
       "      <td>0</td>\n",
       "      <td>0</td>\n",
       "      <td>STON/O2. 3101282</td>\n",
       "      <td>7.9250</td>\n",
       "      <td>NaN</td>\n",
       "      <td>S</td>\n",
       "    </tr>\n",
       "    <tr>\n",
       "      <th>3</th>\n",
       "      <td>4</td>\n",
       "      <td>1</td>\n",
       "      <td>Futrelle, Mrs. Jacques Heath (Lily May Peel)</td>\n",
       "      <td>female</td>\n",
       "      <td>35.0</td>\n",
       "      <td>1</td>\n",
       "      <td>0</td>\n",
       "      <td>113803</td>\n",
       "      <td>53.1000</td>\n",
       "      <td>C123</td>\n",
       "      <td>S</td>\n",
       "    </tr>\n",
       "    <tr>\n",
       "      <th>4</th>\n",
       "      <td>5</td>\n",
       "      <td>3</td>\n",
       "      <td>Allen, Mr. William Henry</td>\n",
       "      <td>male</td>\n",
       "      <td>35.0</td>\n",
       "      <td>0</td>\n",
       "      <td>0</td>\n",
       "      <td>373450</td>\n",
       "      <td>8.0500</td>\n",
       "      <td>NaN</td>\n",
       "      <td>S</td>\n",
       "    </tr>\n",
       "  </tbody>\n",
       "</table>\n",
       "</div>"
      ],
      "text/plain": [
       "   PassengerId  Pclass                                               Name  \\\n",
       "0            1       3                            Braund, Mr. Owen Harris   \n",
       "1            2       1  Cumings, Mrs. John Bradley (Florence Briggs Th...   \n",
       "2            3       3                             Heikkinen, Miss. Laina   \n",
       "3            4       1       Futrelle, Mrs. Jacques Heath (Lily May Peel)   \n",
       "4            5       3                           Allen, Mr. William Henry   \n",
       "\n",
       "      Sex   Age  SibSp  Parch            Ticket     Fare Cabin Embarked  \n",
       "0    male  22.0      1      0         A/5 21171   7.2500   NaN        S  \n",
       "1  female  38.0      1      0          PC 17599  71.2833   C85        C  \n",
       "2  female  26.0      0      0  STON/O2. 3101282   7.9250   NaN        S  \n",
       "3  female  35.0      1      0            113803  53.1000  C123        S  \n",
       "4    male  35.0      0      0            373450   8.0500   NaN        S  "
      ]
     },
     "execution_count": 43,
     "metadata": {},
     "output_type": "execute_result"
    }
   ],
   "source": [
    "y = train.pop('Survived')\n",
    "train.head()"
   ]
  },
  {
   "cell_type": "code",
   "execution_count": 44,
   "id": "c7c6e6db",
   "metadata": {},
   "outputs": [
    {
     "data": {
      "text/plain": [
       "<Axes: xlabel='Age', ylabel='Count'>"
      ]
     },
     "execution_count": 44,
     "metadata": {},
     "output_type": "execute_result"
    },
    {
     "data": {
      "image/png": "[encoded data removed]",
      "text/plain": [
       "<Figure size 640x480 with 1 Axes>"
      ]
     },
     "metadata": {},
     "output_type": "display_data"
    }
   ],
   "source": [
    "sns.histplot(train, x=\"Age\", hue=\"Sex\")"
   ]
  },
  {
   "cell_type": "code",
   "execution_count": 54,
   "id": "b04ebfe1",
   "metadata": {},
   "outputs": [],
   "source": [
    "x_train, x_test, y_train, y_test = train_test_split(train, y, test_size=0.25, random_state=42)"
   ]
  },
  {
   "cell_type": "code",
   "execution_count": 73,
   "id": "a2a1d198",
   "metadata": {},
   "outputs": [],
   "source": [
    "class addFeatures(base.BaseEstimator, base.TransformerMixin):\n",
    "    def fit(self, X, y=None):\n",
    "        return self\n",
    "    \n",
    "    def transform(self, X):\n",
    "        X = X.copy()\n",
    "        cabin = X['Cabin'].fillna('0')\n",
    "        num_cabins = [len(g.split(' ')) if g != '0' else 0 for g in cabin]\n",
    "        X['num_cabins'] = num_cabins\n",
    "        \n",
    "        child = [1 if a < 13 else 0 for a in X['Age']]\n",
    "        X['child'] = child\n",
    "        \n",
    "        return X"
   ]
  },
  {
   "cell_type": "markdown",
   "id": "cc64bd94",
   "metadata": {},
   "source": [
    "## Tensorflow attempt"
   ]
  },
  {
   "cell_type": "code",
   "execution_count": 74,
   "id": "1417c4b1",
   "metadata": {},
   "outputs": [],
   "source": [
    "add_features = addFeatures()\n",
    "x_train = add_features.transform(x_train)\n",
    "x_test = add_features.transform(x_test)"
   ]
  },
  {
   "cell_type": "code",
   "execution_count": 75,
   "id": "388dc164",
   "metadata": {},
   "outputs": [],
   "source": [
    "features = ['Fare', 'Age', 'SibSp', 'Parch', 'num_cabins', 'Pclass', 'Sex']\n",
    "x_train_pre = x_train[features].copy()\n",
    "x_test_pre = x_test[features].copy()"
   ]
  },
  {
   "cell_type": "code",
   "execution_count": 76,
   "id": "347b4402",
   "metadata": {},
   "outputs": [],
   "source": [
    "x_train_pre['Age'] = x_train_pre['Age'].fillna(x_train_pre['Age'].median())\n",
    "x_test_pre['Age'] = x_test_pre['Age'].fillna(x_test_pre['Age'].median())"
   ]
  },
  {
   "cell_type": "code",
   "execution_count": 77,
   "id": "f83b813a",
   "metadata": {},
   "outputs": [],
   "source": [
    "enc = OrdinalEncoder()"
   ]
  },
  {
   "cell_type": "code",
   "execution_count": 78,
   "id": "c5b7292d",
   "metadata": {},
   "outputs": [],
   "source": [
    "x_train_pre['Sex'] = enc.fit_transform(x_train['Sex'].values.reshape(-1,1))\n",
    "x_test_pre['Sex'] = enc.fit_transform(x_test['Sex'].values.reshape(-1,1))\n",
    "y_train_pre = tf.one_hot(y_train, 2).numpy()\n",
    "y_test_pre = tf.one_hot(y_test, 2).numpy()"
   ]
  },
  {
   "cell_type": "code",
   "execution_count": 79,
   "id": "b374436b",
   "metadata": {},
   "outputs": [],
   "source": [
    "model = keras.models.Sequential()"
   ]
  },
  {
   "cell_type": "code",
   "execution_count": 80,
   "id": "6ddcfcad",
   "metadata": {},
   "outputs": [],
   "source": [
    "hidden_size = 2\n",
    "rate = 0.5\n",
    "model.add(keras.layers.InputLayer(input_shape=(7,)))\n",
    "model.add(keras.layers.Dense(hidden_size, activation='sigmoid'))\n",
    "model.add(keras.layers.Dropout(rate))\n",
    "model.add(keras.layers.Dense(2, activation='softmax'))"
   ]
  },
  {
   "cell_type": "code",
   "execution_count": 81,
   "id": "f830a3a2",
   "metadata": {},
   "outputs": [],
   "source": [
    "model.compile(loss='categorical_crossentropy', optimizer=keras.optimizers.SGD(learning_rate=0.5), metrics=['accuracy'])"
   ]
  },
  {
   "cell_type": "code",
   "execution_count": 82,
   "id": "a12baadf",
   "metadata": {},
   "outputs": [],
   "source": [
    "checkpointer = keras.callbacks.ModelCheckpoint(filepath='./models/keras_example.hdf5',\n",
    "                                               monitor='val_loss',\n",
    "                                               verbose=1, save_best_only=True)\n",
    "earlystopping = keras.callbacks.EarlyStopping(monitor='val_loss', patience=10, verbose=1, min_delta=.01) "
   ]
  },
  {
   "cell_type": "code",
   "execution_count": 83,
   "id": "498a35d1",
   "metadata": {},
   "outputs": [
    {
     "name": "stdout",
     "output_type": "stream",
     "text": [
      "Epoch 1/100\n",
      " 1/23 [>.............................] - ETA: 6s - loss: 0.6992 - accuracy: 0.5333\n",
      "Epoch 1: val_loss improved from inf to 0.68610, saving model to ./models/keras_example.hdf5\n",
      "23/23 [==============================] - 0s 8ms/step - loss: 0.6720 - accuracy: 0.6123 - val_loss: 0.6861 - val_accuracy: 0.6009\n",
      "Epoch 2/100\n",
      " 1/23 [>.............................] - ETA: 0s - loss: 0.7295 - accuracy: 0.3333\n",
      "Epoch 2: val_loss did not improve from 0.68610\n",
      "23/23 [==============================] - 0s 3ms/step - loss: 0.6929 - accuracy: 0.5689 - val_loss: 0.7709 - val_accuracy: 0.6009\n",
      "Epoch 3/100\n",
      " 1/23 [>.............................] - ETA: 0s - loss: 0.5984 - accuracy: 0.7667\n",
      "Epoch 3: val_loss did not improve from 0.68610\n",
      "23/23 [==============================] - 0s 3ms/step - loss: 0.6836 - accuracy: 0.6033 - val_loss: 0.7130 - val_accuracy: 0.6009\n",
      "Epoch 4/100\n",
      " 1/23 [>.............................] - ETA: 0s - loss: 0.6818 - accuracy: 0.6667\n",
      "Epoch 4: val_loss did not improve from 0.68610\n",
      "23/23 [==============================] - 0s 2ms/step - loss: 0.6762 - accuracy: 0.6138 - val_loss: 0.7003 - val_accuracy: 0.6009\n",
      "Epoch 5/100\n",
      " 1/23 [>.............................] - ETA: 0s - loss: 0.7826 - accuracy: 0.5000\n",
      "Epoch 5: val_loss improved from 0.68610 to 0.67715, saving model to ./models/keras_example.hdf5\n",
      "23/23 [==============================] - 0s 3ms/step - loss: 0.6929 - accuracy: 0.5734 - val_loss: 0.6771 - val_accuracy: 0.6009\n",
      "Epoch 6/100\n",
      " 1/23 [>.............................] - ETA: 0s - loss: 0.5953 - accuracy: 0.7333\n",
      "Epoch 6: val_loss did not improve from 0.67715\n",
      "23/23 [==============================] - 0s 2ms/step - loss: 0.6835 - accuracy: 0.5913 - val_loss: 0.9562 - val_accuracy: 0.3991\n",
      "Epoch 7/100\n",
      " 1/23 [>.............................] - ETA: 0s - loss: 1.1921 - accuracy: 0.3667\n",
      "Epoch 7: val_loss did not improve from 0.67715\n",
      "23/23 [==============================] - 0s 2ms/step - loss: 0.6999 - accuracy: 0.5868 - val_loss: 0.7282 - val_accuracy: 0.6009\n",
      "Epoch 8/100\n",
      " 1/23 [>.............................] - ETA: 0s - loss: 0.7566 - accuracy: 0.6333\n",
      "Epoch 8: val_loss did not improve from 0.67715\n",
      "23/23 [==============================] - 0s 2ms/step - loss: 0.6762 - accuracy: 0.6048 - val_loss: 0.8569 - val_accuracy: 0.3991\n",
      "Epoch 9/100\n",
      " 1/23 [>.............................] - ETA: 0s - loss: 0.8259 - accuracy: 0.5000\n",
      "Epoch 9: val_loss did not improve from 0.67715\n",
      "23/23 [==============================] - 0s 3ms/step - loss: 0.6841 - accuracy: 0.6063 - val_loss: 0.7281 - val_accuracy: 0.6009\n",
      "Epoch 10/100\n",
      " 1/23 [>.............................] - ETA: 0s - loss: 0.7306 - accuracy: 0.6000\n",
      "Epoch 10: val_loss did not improve from 0.67715\n",
      "23/23 [==============================] - 0s 3ms/step - loss: 0.6717 - accuracy: 0.6153 - val_loss: 0.6849 - val_accuracy: 0.6009\n",
      "Epoch 11/100\n",
      " 1/23 [>.............................] - ETA: 0s - loss: 0.7015 - accuracy: 0.5333\n",
      "Epoch 11: val_loss improved from 0.67715 to 0.67267, saving model to ./models/keras_example.hdf5\n",
      "23/23 [==============================] - 0s 3ms/step - loss: 0.6859 - accuracy: 0.6003 - val_loss: 0.6727 - val_accuracy: 0.6009\n",
      "Epoch 12/100\n",
      " 1/23 [>.............................] - ETA: 0s - loss: 0.6698 - accuracy: 0.6333\n",
      "Epoch 12: val_loss did not improve from 0.67267\n",
      "23/23 [==============================] - 0s 3ms/step - loss: 0.6835 - accuracy: 0.5868 - val_loss: 0.6969 - val_accuracy: 0.6009\n",
      "Epoch 13/100\n",
      " 1/23 [>.............................] - ETA: 0s - loss: 0.6805 - accuracy: 0.6000\n",
      "Epoch 13: val_loss did not improve from 0.67267\n",
      "23/23 [==============================] - 0s 3ms/step - loss: 0.6768 - accuracy: 0.6033 - val_loss: 0.6882 - val_accuracy: 0.6009\n",
      "Epoch 14/100\n",
      " 1/23 [>.............................] - ETA: 0s - loss: 0.6681 - accuracy: 0.6333\n",
      "Epoch 14: val_loss did not improve from 0.67267\n",
      "23/23 [==============================] - 0s 3ms/step - loss: 0.6787 - accuracy: 0.6078 - val_loss: 0.6970 - val_accuracy: 0.6009\n",
      "Epoch 15/100\n",
      " 1/23 [>.............................] - ETA: 0s - loss: 0.7938 - accuracy: 0.5333\n",
      "Epoch 15: val_loss did not improve from 0.67267\n",
      "23/23 [==============================] - 0s 2ms/step - loss: 0.6749 - accuracy: 0.6078 - val_loss: 0.7364 - val_accuracy: 0.6009\n",
      "Epoch 16/100\n",
      " 1/23 [>.............................] - ETA: 0s - loss: 1.1071 - accuracy: 0.3667\n",
      "Epoch 16: val_loss did not improve from 0.67267\n",
      "23/23 [==============================] - 0s 3ms/step - loss: 0.6849 - accuracy: 0.6153 - val_loss: 0.7116 - val_accuracy: 0.6009\n",
      "Epoch 17/100\n",
      " 1/23 [>.............................] - ETA: 0s - loss: 0.6881 - accuracy: 0.6333\n",
      "Epoch 17: val_loss did not improve from 0.67267\n",
      "23/23 [==============================] - 0s 3ms/step - loss: 0.6750 - accuracy: 0.6063 - val_loss: 0.7159 - val_accuracy: 0.3991\n",
      "Epoch 18/100\n",
      " 1/23 [>.............................] - ETA: 0s - loss: 0.7604 - accuracy: 0.5333\n",
      "Epoch 18: val_loss did not improve from 0.67267\n",
      "23/23 [==============================] - 0s 3ms/step - loss: 0.6860 - accuracy: 0.6078 - val_loss: 0.7287 - val_accuracy: 0.3991\n",
      "Epoch 19/100\n",
      " 1/23 [>.............................] - ETA: 0s - loss: 0.7041 - accuracy: 0.5333\n",
      "Epoch 19: val_loss did not improve from 0.67267\n",
      "23/23 [==============================] - 0s 3ms/step - loss: 0.6814 - accuracy: 0.6078 - val_loss: 0.6728 - val_accuracy: 0.6009\n",
      "Epoch 20/100\n",
      " 1/23 [>.............................] - ETA: 0s - loss: 0.6240 - accuracy: 0.6333\n",
      "Epoch 20: val_loss did not improve from 0.67267\n",
      "23/23 [==============================] - 0s 2ms/step - loss: 0.6830 - accuracy: 0.5943 - val_loss: 0.7050 - val_accuracy: 0.3991\n",
      "Epoch 21/100\n",
      " 1/23 [>.............................] - ETA: 0s - loss: 0.7611 - accuracy: 0.4000\n",
      "Epoch 21: val_loss did not improve from 0.67267\n",
      "23/23 [==============================] - 0s 3ms/step - loss: 0.6774 - accuracy: 0.5898 - val_loss: 0.6829 - val_accuracy: 0.6009\n",
      "Epoch 21: early stopping\n",
      "CPU times: user 2 s, sys: 236 ms, total: 2.24 s\n",
      "Wall time: 1.79 s\n"
     ]
    }
   ],
   "source": [
    "%%time\n",
    "history = model.fit(x_train_pre.to_numpy(), y_train_pre,\n",
    "                    epochs=100,\n",
    "                    batch_size=30,\n",
    "                    callbacks=[checkpointer, earlystopping],\n",
    "                    validation_data=(x_test_pre.to_numpy(), y_test_pre))"
   ]
  },
  {
   "cell_type": "code",
   "execution_count": null,
   "id": "715a1612",
   "metadata": {},
   "outputs": [],
   "source": []
  },
  {
   "cell_type": "code",
   "execution_count": null,
   "id": "ec79a8ab",
   "metadata": {},
   "outputs": [],
   "source": []
  }
 ],
 "metadata": {
  "kernelspec": {
   "display_name": "Python 3 (ipykernel)",
   "language": "python",
   "name": "python3"
  },
  "language_info": {
   "codemirror_mode": {
    "name": "ipython",
    "version": 3
   },
   "file_extension": ".py",
   "mimetype": "text/x-python",
   "name": "python",
   "nbconvert_exporter": "python",
   "pygments_lexer": "ipython3",
   "version": "3.10.9"
  }
 },
 "nbformat": 4,
 "nbformat_minor": 5
}
