{
 "cells": [
  {
   "cell_type": "markdown",
   "id": "0408a757",
   "metadata": {},
   "source": [
    "## Querying NYC resturaunt inspection data using SQL\n",
    "\n",
    "Notebook showing the process of querying NYC resturaunt inspection data using SQL. Two examples are given, one to group resturaunts by borough and show average score per borough, and one to group by cuisine type and show the number of violations per cuisine type within a given time period"
   ]
  },
  {
   "cell_type": "code",
   "execution_count": 6,
   "id": "15fc5843",
   "metadata": {},
   "outputs": [],
   "source": [
    "import pandas as pd\n",
    "import sqlite3"
   ]
  },
  {
   "cell_type": "code",
   "execution_count": 7,
   "id": "79d1b567",
   "metadata": {},
   "outputs": [
    {
     "name": "stderr",
     "output_type": "stream",
     "text": [
      "/var/folders/n8/mc27w99j19q1kx20z133q0w40000gp/T/ipykernel_37473/3527669267.py:3: DtypeWarning: Columns (6) have mixed types. Specify dtype option on import or set low_memory=False.\n",
      "  we = pd.read_csv('WebExtract.csv', encoding='latin-1')\n"
     ]
    }
   ],
   "source": [
    "%load_ext sql\n",
    "%sql sqlite:///information_schema.db\n",
    "we = pd.read_csv('WebExtract.csv', encoding='latin-1')\n",
    "action = pd.read_csv('Action.csv', encoding='latin-1')\n",
    "cuisine = pd.read_csv('Cuisine.csv', encoding='latin-1')\n",
    "violation = pd.read_csv('Violation.csv', encoding='latin-1', on_bad_lines='skip')"
   ]
  },
  {
   "cell_type": "code",
   "execution_count": 8,
   "id": "cd8be8dd",
   "metadata": {},
   "outputs": [],
   "source": [
    "cnn = sqlite3.connect('information_schema.db')"
   ]
  },
  {
   "cell_type": "code",
   "execution_count": 9,
   "id": "3d30b438",
   "metadata": {},
   "outputs": [
    {
     "data": {
      "text/plain": [
       "\"we.to_sql('webextract', cnn)\\naction.to_sql('action', cnn)\\ncuisine.to_sql('cuisine', cnn)\\nviolation.to_sql('violation', cnn)\""
      ]
     },
     "execution_count": 9,
     "metadata": {},
     "output_type": "execute_result"
    }
   ],
   "source": [
    "'''we.to_sql('webextract', cnn)\n",
    "action.to_sql('action', cnn)\n",
    "cuisine.to_sql('cuisine', cnn)\n",
    "violation.to_sql('violation', cnn)'''"
   ]
  },
  {
   "cell_type": "markdown",
   "id": "3f089f67",
   "metadata": {},
   "source": [
    "Remove bad entries from data set, note CAMIS is the specific resturaunt ID"
   ]
  },
  {
   "cell_type": "code",
   "execution_count": 10,
   "id": "810f1e8f",
   "metadata": {},
   "outputs": [
    {
     "name": "stdout",
     "output_type": "stream",
     "text": [
      " * sqlite:///information_schema.db\n",
      "Done.\n",
      "Done.\n"
     ]
    },
    {
     "data": {
      "text/plain": [
       "[]"
      ]
     },
     "execution_count": 10,
     "metadata": {},
     "output_type": "execute_result"
    }
   ],
   "source": [
    "%%sql\n",
    "\n",
    "DROP TABLE if EXISTS good_dates;\n",
    "\n",
    "CREATE TEMP TABLE good_dates AS\n",
    "\n",
    "with cols as (select CAMIS, INSPDATE\n",
    "              from webextract\n",
    "              GROUP BY CAMIS, INSPDATE\n",
    "              having count(SCORE)>0)\n",
    "\n",
    "\n",
    "SELECT webextract.CAMIS, webextract.INSPDATE, webextract.SCORE, webextract.ZIPCODE, webextract.BORO\n",
    "FROM webextract JOIN cols \n",
    "ON webextract.CAMIS = cols.CAMIS \n",
    "AND webextract.INSPDATE = cols.INSPDATE"
   ]
  },
  {
   "cell_type": "markdown",
   "id": "4f9ae6d7",
   "metadata": {},
   "source": [
    "number of entries removed"
   ]
  },
  {
   "cell_type": "code",
   "execution_count": 11,
   "id": "7b684689",
   "metadata": {},
   "outputs": [
    {
     "name": "stdout",
     "output_type": "stream",
     "text": [
      " * sqlite:///information_schema.db\n",
      "Done.\n"
     ]
    },
    {
     "data": {
      "text/html": [
       "<table>\n",
       "    <thead>\n",
       "        <tr>\n",
       "            <th>COUNT(*)</th>\n",
       "        </tr>\n",
       "    </thead>\n",
       "    <tbody>\n",
       "        <tr>\n",
       "            <td>8255</td>\n",
       "        </tr>\n",
       "    </tbody>\n",
       "</table>"
      ],
      "text/plain": [
       "[(8255,)]"
      ]
     },
     "execution_count": 11,
     "metadata": {},
     "output_type": "execute_result"
    }
   ],
   "source": [
    "%%sql\n",
    "\n",
    "SELECT COUNT(*) FROM (SELECT CAMIS, INSPDATE, COUNT(SCORE)\n",
    "FROM webextract\n",
    "GROUP BY CAMIS, INSPDATE\n",
    "HAVING COUNT(SCORE) = 0) as df"
   ]
  },
  {
   "cell_type": "markdown",
   "id": "33de4c86",
   "metadata": {},
   "source": [
    "## Next I will query the average score per burough\n",
    "\n",
    "Using the most recent score for each resturaunt"
   ]
  },
  {
   "cell_type": "code",
   "execution_count": 12,
   "id": "6fee345a",
   "metadata": {},
   "outputs": [
    {
     "name": "stdout",
     "output_type": "stream",
     "text": [
      " * sqlite:///information_schema.db\n",
      "Done.\n",
      "Done.\n"
     ]
    },
    {
     "data": {
      "text/plain": [
       "[]"
      ]
     },
     "execution_count": 12,
     "metadata": {},
     "output_type": "execute_result"
    }
   ],
   "source": [
    "%%sql \n",
    "\n",
    "DROP TABLE if EXISTS boro1;\n",
    "\n",
    "CREATE TEMP TABLE boro1 AS\n",
    "\n",
    "SELECT BORO, CAMIS, MAX(INSPDATE) as max_date\n",
    "FROM good_dates\n",
    "GROUP BY CAMIS"
   ]
  },
  {
   "cell_type": "markdown",
   "id": "5f63470a",
   "metadata": {},
   "source": [
    "Join borough data with resturaunt score from webextract table"
   ]
  },
  {
   "cell_type": "code",
   "execution_count": 13,
   "id": "eca33a64",
   "metadata": {},
   "outputs": [
    {
     "name": "stdout",
     "output_type": "stream",
     "text": [
      " * sqlite:///information_schema.db\n",
      "Done.\n",
      "Done.\n"
     ]
    },
    {
     "data": {
      "text/plain": [
       "[]"
      ]
     },
     "execution_count": 13,
     "metadata": {},
     "output_type": "execute_result"
    }
   ],
   "source": [
    "%%sql \n",
    "\n",
    "DROP TABLE if EXISTS add_scores;\n",
    "\n",
    "CREATE TEMP TABLE add_scores AS\n",
    "\n",
    "SELECT b.BORO, b.CAMIS, b.max_date, we.SCORE\n",
    "FROM boro1 as b JOIN webextract as we\n",
    "ON we.CAMIS = b.CAMIS and we.INSPDATE = b.max_date"
   ]
  },
  {
   "cell_type": "markdown",
   "id": "d975e4f7",
   "metadata": {},
   "source": [
    "Average over score based on borough camis and max date grouping"
   ]
  },
  {
   "cell_type": "code",
   "execution_count": 14,
   "id": "29b9c994",
   "metadata": {},
   "outputs": [
    {
     "name": "stdout",
     "output_type": "stream",
     "text": [
      " * sqlite:///information_schema.db\n",
      "Done.\n",
      "Done.\n"
     ]
    },
    {
     "data": {
      "text/plain": [
       "[]"
      ]
     },
     "execution_count": 14,
     "metadata": {},
     "output_type": "execute_result"
    }
   ],
   "source": [
    "%%sql \n",
    "\n",
    "DROP TABLE if EXISTS score_avg;\n",
    "\n",
    "CREATE TEMP TABLE score_avg AS\n",
    "\n",
    "SELECT BORO, CAMIS, max_date, AVG(SCORE) as avgscore\n",
    "FROM add_scores\n",
    "GROUP BY BORO, CAMIS, max_date"
   ]
  },
  {
   "cell_type": "markdown",
   "id": "ff18a415",
   "metadata": {},
   "source": [
    "group into boroughs and only keep resturaunts with over 100 reviews"
   ]
  },
  {
   "cell_type": "code",
   "execution_count": 15,
   "id": "7553c8e0",
   "metadata": {},
   "outputs": [
    {
     "name": "stdout",
     "output_type": "stream",
     "text": [
      " * sqlite:///information_schema.db\n",
      "Done.\n",
      "Done.\n"
     ]
    },
    {
     "data": {
      "text/plain": [
       "[]"
      ]
     },
     "execution_count": 15,
     "metadata": {},
     "output_type": "execute_result"
    }
   ],
   "source": [
    "%%sql\n",
    "\n",
    "DROP TABLE if EXISTS borugh;\n",
    "\n",
    "CREATE TEMP TABLE borugh AS\n",
    "\n",
    "SELECT BORO, AVG(avgscore) AS avg_score, COUNT(DISTINCT CAMIS) AS num_resturaunts\n",
    "FROM score_avg \n",
    "GROUP BY BORO\n",
    "HAVING num_resturaunts > 100\n",
    "ORDER BY avg_score"
   ]
  },
  {
   "cell_type": "code",
   "execution_count": 16,
   "id": "95cd9c6f",
   "metadata": {},
   "outputs": [
    {
     "name": "stdout",
     "output_type": "stream",
     "text": [
      " * sqlite:///information_schema.db\n",
      "Done.\n"
     ]
    },
    {
     "data": {
      "text/html": [
       "<table>\n",
       "    <thead>\n",
       "        <tr>\n",
       "            <th>BORO</th>\n",
       "            <th>avg_score</th>\n",
       "            <th>num_resturaunts</th>\n",
       "        </tr>\n",
       "    </thead>\n",
       "    <tbody>\n",
       "        <tr>\n",
       "            <td>2</td>\n",
       "            <td>10.776852257781675</td>\n",
       "            <td>2281</td>\n",
       "        </tr>\n",
       "        <tr>\n",
       "            <td>1</td>\n",
       "            <td>11.48963704377717</td>\n",
       "            <td>9891</td>\n",
       "        </tr>\n",
       "        <tr>\n",
       "            <td>3</td>\n",
       "            <td>11.596854163104805</td>\n",
       "            <td>5849</td>\n",
       "        </tr>\n",
       "        <tr>\n",
       "            <td>4</td>\n",
       "            <td>11.82259553258261</td>\n",
       "            <td>5417</td>\n",
       "        </tr>\n",
       "        <tr>\n",
       "            <td>5</td>\n",
       "            <td>11.899122807017545</td>\n",
       "            <td>912</td>\n",
       "        </tr>\n",
       "    </tbody>\n",
       "</table>"
      ],
      "text/plain": [
       "[(2, 10.776852257781675, 2281),\n",
       " (1, 11.48963704377717, 9891),\n",
       " (3, 11.596854163104805, 5849),\n",
       " (4, 11.82259553258261, 5417),\n",
       " (5, 11.899122807017545, 912)]"
      ]
     },
     "execution_count": 16,
     "metadata": {},
     "output_type": "execute_result"
    }
   ],
   "source": [
    "%%sql\n",
    "\n",
    "SELECT * FROM borugh\n",
    "ORDER BY avg_score"
   ]
  },
  {
   "cell_type": "code",
   "execution_count": 17,
   "id": "6e180feb",
   "metadata": {},
   "outputs": [
    {
     "data": {
      "text/plain": [
       "24350"
      ]
     },
     "execution_count": 17,
     "metadata": {},
     "output_type": "execute_result"
    }
   ],
   "source": [
    "data = _\n",
    "df = data.DataFrame()\n",
    "df.num_resturaunts.sum()"
   ]
  },
  {
   "cell_type": "code",
   "execution_count": 18,
   "id": "28505916",
   "metadata": {},
   "outputs": [
    {
     "name": "stderr",
     "output_type": "stream",
     "text": [
      "/var/folders/n8/mc27w99j19q1kx20z133q0w40000gp/T/ipykernel_37473/4166052207.py:1: SettingWithCopyWarning: \n",
      "A value is trying to be set on a copy of a slice from a DataFrame\n",
      "\n",
      "See the caveats in the documentation: https://pandas.pydata.org/pandas-docs/stable/user_guide/indexing.html#returning-a-view-versus-a-copy\n",
      "  df['BORO'][0] = 'THE BRONX'\n"
     ]
    }
   ],
   "source": [
    "df['BORO'][0] = 'THE BRONX'\n",
    "df['BORO'][1] = 'MANHATTAN'\n",
    "df['BORO'][2] = 'BROOKLYN'\n",
    "df['BORO'][3] = 'QUEENS'\n",
    "df['BORO'][4] = 'STATEN ISLAND'"
   ]
  },
  {
   "cell_type": "code",
   "execution_count": 19,
   "id": "3205d027",
   "metadata": {},
   "outputs": [],
   "source": [
    "records = df.to_records(index=False)\n",
    "result = list(records)"
   ]
  },
  {
   "cell_type": "code",
   "execution_count": 20,
   "id": "680b1afa",
   "metadata": {},
   "outputs": [
    {
     "data": {
      "text/plain": [
       "[('THE BRONX', 10.77685226, 2281),\n",
       " ('MANHATTAN', 11.48963704, 9891),\n",
       " ('BROOKLYN', 11.59685416, 5849),\n",
       " ('QUEENS', 11.82259553, 5417),\n",
       " ('STATEN ISLAND', 11.89912281, 912)]"
      ]
     },
     "execution_count": 20,
     "metadata": {},
     "output_type": "execute_result"
    }
   ],
   "source": [
    "result"
   ]
  },
  {
   "cell_type": "markdown",
   "id": "90099ff7",
   "metadata": {},
   "source": [
    "## Next I am going to determine the number of violations for a given cuisine"
   ]
  },
  {
   "cell_type": "code",
   "execution_count": 21,
   "id": "9c16f59c",
   "metadata": {},
   "outputs": [
    {
     "name": "stdout",
     "output_type": "stream",
     "text": [
      " * sqlite:///information_schema.db\n",
      "Done.\n"
     ]
    },
    {
     "data": {
      "text/html": [
       "<table>\n",
       "    <thead>\n",
       "        <tr>\n",
       "            <th>index</th>\n",
       "            <th>CAMIS</th>\n",
       "            <th>DBA</th>\n",
       "            <th>BORO</th>\n",
       "            <th>BUILDING</th>\n",
       "            <th>STREET</th>\n",
       "            <th>ZIPCODE</th>\n",
       "            <th>PHONE</th>\n",
       "            <th>CUISINECODE</th>\n",
       "            <th>INSPDATE</th>\n",
       "            <th>ACTION</th>\n",
       "            <th>VIOLCODE</th>\n",
       "            <th>SCORE</th>\n",
       "            <th>CURRENTGRADE</th>\n",
       "            <th>GRADEDATE</th>\n",
       "            <th>RECORDDATE</th>\n",
       "        </tr>\n",
       "    </thead>\n",
       "    <tbody>\n",
       "        <tr>\n",
       "            <td>0</td>\n",
       "            <td>30075445</td>\n",
       "            <td>MORRIS PARK BAKE SHOP</td>\n",
       "            <td>2</td>\n",
       "            <td>1007      </td>\n",
       "            <td>MORRIS PARK AVE                                   </td>\n",
       "            <td>10462.0</td>\n",
       "            <td>7188924968</td>\n",
       "            <td>8</td>\n",
       "            <td>2014-03-03 00:00:00</td>\n",
       "            <td>D</td>\n",
       "            <td>10F</td>\n",
       "            <td>2.0</td>\n",
       "            <td>A</td>\n",
       "            <td>2014-03-03 00:00:00</td>\n",
       "            <td>2014-09-04 06:01:28.403000000</td>\n",
       "        </tr>\n",
       "    </tbody>\n",
       "</table>"
      ],
      "text/plain": [
       "[(0, 30075445, 'MORRIS PARK BAKE SHOP', 2, '1007      ', 'MORRIS PARK AVE                                   ', 10462.0, '7188924968', 8, '2014-03-03 00:00:00', 'D', '10F', 2.0, 'A', '2014-03-03 00:00:00', '2014-09-04 06:01:28.403000000')]"
      ]
     },
     "execution_count": 21,
     "metadata": {},
     "output_type": "execute_result"
    }
   ],
   "source": [
    "%%sql\n",
    "\n",
    "select * from webextract\n",
    "limit 1"
   ]
  },
  {
   "cell_type": "code",
   "execution_count": 22,
   "id": "e2766c8e",
   "metadata": {},
   "outputs": [
    {
     "name": "stdout",
     "output_type": "stream",
     "text": [
      " * sqlite:///information_schema.db\n",
      "Done.\n"
     ]
    },
    {
     "data": {
      "text/html": [
       "<table>\n",
       "    <thead>\n",
       "        <tr>\n",
       "            <th>index</th>\n",
       "            <th>CUISINECODE</th>\n",
       "            <th>CODEDESC</th>\n",
       "        </tr>\n",
       "    </thead>\n",
       "    <tbody>\n",
       "        <tr>\n",
       "            <td>0</td>\n",
       "            <td>2</td>\n",
       "            <td>African</td>\n",
       "        </tr>\n",
       "    </tbody>\n",
       "</table>"
      ],
      "text/plain": [
       "[(0, 2, 'African')]"
      ]
     },
     "execution_count": 22,
     "metadata": {},
     "output_type": "execute_result"
    }
   ],
   "source": [
    "%%sql\n",
    "\n",
    "select * from cuisine\n",
    "limit 1"
   ]
  },
  {
   "cell_type": "markdown",
   "id": "dd6f5448",
   "metadata": {},
   "source": [
    "again remove null entries"
   ]
  },
  {
   "cell_type": "code",
   "execution_count": 23,
   "id": "a87d459a",
   "metadata": {},
   "outputs": [
    {
     "name": "stdout",
     "output_type": "stream",
     "text": [
      " * sqlite:///information_schema.db\n",
      "Done.\n",
      "Done.\n"
     ]
    },
    {
     "data": {
      "text/plain": [
       "[]"
      ]
     },
     "execution_count": 23,
     "metadata": {},
     "output_type": "execute_result"
    }
   ],
   "source": [
    "%%sql\n",
    "\n",
    "DROP TABLE if EXISTS table1;\n",
    "\n",
    "CREATE TEMP TABLE table1 AS\n",
    "\n",
    "with cols as (select CAMIS, INSPDATE\n",
    "              from webextract\n",
    "              GROUP BY CAMIS, INSPDATE\n",
    "              having count(SCORE)>0)\n",
    "\n",
    "\n",
    "SELECT we.CAMIS, we.INSPDATE, we.VIOLCODE, we.CUISINECODE\n",
    "FROM webextract as we JOIN cols as c\n",
    "ON we.CAMIS = c.CAMIS \n",
    "AND we.INSPDATE = c.INSPDATE"
   ]
  },
  {
   "cell_type": "markdown",
   "id": "df929dc4",
   "metadata": {},
   "source": [
    "Next few cells are just exploring the data"
   ]
  },
  {
   "cell_type": "code",
   "execution_count": 24,
   "id": "7dc15fa9",
   "metadata": {},
   "outputs": [
    {
     "name": "stdout",
     "output_type": "stream",
     "text": [
      " * sqlite:///information_schema.db\n",
      "Done.\n"
     ]
    },
    {
     "data": {
      "text/html": [
       "<table>\n",
       "    <thead>\n",
       "        <tr>\n",
       "            <th>CAMIS</th>\n",
       "            <th>INSPDATE</th>\n",
       "            <th>VIOLCODE</th>\n",
       "            <th>CUISINECODE</th>\n",
       "        </tr>\n",
       "    </thead>\n",
       "    <tbody>\n",
       "        <tr>\n",
       "            <td>40384528</td>\n",
       "            <td>2014-06-30 00:00:00</td>\n",
       "            <td>04M</td>\n",
       "            <td>99</td>\n",
       "        </tr>\n",
       "        <tr>\n",
       "            <td>40384528</td>\n",
       "            <td>2014-06-30 00:00:00</td>\n",
       "            <td>08A</td>\n",
       "            <td>99</td>\n",
       "        </tr>\n",
       "        <tr>\n",
       "            <td>40384528</td>\n",
       "            <td>2014-06-30 00:00:00</td>\n",
       "            <td>06E</td>\n",
       "            <td>99</td>\n",
       "        </tr>\n",
       "        <tr>\n",
       "            <td>40384528</td>\n",
       "            <td>2014-06-30 00:00:00</td>\n",
       "            <td>10F</td>\n",
       "            <td>99</td>\n",
       "        </tr>\n",
       "        <tr>\n",
       "            <td>40384528</td>\n",
       "            <td>2014-06-30 00:00:00</td>\n",
       "            <td>06C</td>\n",
       "            <td>99</td>\n",
       "        </tr>\n",
       "        <tr>\n",
       "            <td>40392141</td>\n",
       "            <td>2014-04-21 00:00:00</td>\n",
       "            <td>04L</td>\n",
       "            <td>99</td>\n",
       "        </tr>\n",
       "        <tr>\n",
       "            <td>40392141</td>\n",
       "            <td>2014-04-21 00:00:00</td>\n",
       "            <td>08A</td>\n",
       "            <td>99</td>\n",
       "        </tr>\n",
       "        <tr>\n",
       "            <td>40392141</td>\n",
       "            <td>2014-04-21 00:00:00</td>\n",
       "            <td>10H</td>\n",
       "            <td>99</td>\n",
       "        </tr>\n",
       "        <tr>\n",
       "            <td>40678067</td>\n",
       "            <td>2014-02-22 00:00:00</td>\n",
       "            <td>04L</td>\n",
       "            <td>99</td>\n",
       "        </tr>\n",
       "        <tr>\n",
       "            <td>40678067</td>\n",
       "            <td>2014-02-22 00:00:00</td>\n",
       "            <td>08A</td>\n",
       "            <td>99</td>\n",
       "        </tr>\n",
       "    </tbody>\n",
       "</table>"
      ],
      "text/plain": [
       "[(40384528, '2014-06-30 00:00:00', '04M', 99),\n",
       " (40384528, '2014-06-30 00:00:00', '08A', 99),\n",
       " (40384528, '2014-06-30 00:00:00', '06E', 99),\n",
       " (40384528, '2014-06-30 00:00:00', '10F', 99),\n",
       " (40384528, '2014-06-30 00:00:00', '06C', 99),\n",
       " (40392141, '2014-04-21 00:00:00', '04L', 99),\n",
       " (40392141, '2014-04-21 00:00:00', '08A', 99),\n",
       " (40392141, '2014-04-21 00:00:00', '10H', 99),\n",
       " (40678067, '2014-02-22 00:00:00', '04L', 99),\n",
       " (40678067, '2014-02-22 00:00:00', '08A', 99)]"
      ]
     },
     "execution_count": 24,
     "metadata": {},
     "output_type": "execute_result"
    }
   ],
   "source": [
    "%%sql\n",
    "\n",
    "select * from table1\n",
    "order by cuisinecode DESC\n",
    "limit 10"
   ]
  },
  {
   "cell_type": "code",
   "execution_count": 25,
   "id": "8479b9e9",
   "metadata": {},
   "outputs": [
    {
     "name": "stdout",
     "output_type": "stream",
     "text": [
      " * sqlite:///information_schema.db\n",
      "Done.\n"
     ]
    },
    {
     "data": {
      "text/html": [
       "<table>\n",
       "    <thead>\n",
       "        <tr>\n",
       "            <th>CAMIS</th>\n",
       "            <th>INSPDATE</th>\n",
       "            <th>VIOLCODE</th>\n",
       "            <th>CUISINECODE</th>\n",
       "        </tr>\n",
       "    </thead>\n",
       "    <tbody>\n",
       "        <tr>\n",
       "            <td>30075445</td>\n",
       "            <td>2011-03-10 00:00:00</td>\n",
       "            <td>04L</td>\n",
       "            <td>8</td>\n",
       "        </tr>\n",
       "        <tr>\n",
       "            <td>30075445</td>\n",
       "            <td>2011-03-10 00:00:00</td>\n",
       "            <td>10F</td>\n",
       "            <td>8</td>\n",
       "        </tr>\n",
       "        <tr>\n",
       "            <td>30075445</td>\n",
       "            <td>2011-03-10 00:00:00</td>\n",
       "            <td>10I</td>\n",
       "            <td>8</td>\n",
       "        </tr>\n",
       "        <tr>\n",
       "            <td>30075445</td>\n",
       "            <td>2011-03-10 00:00:00</td>\n",
       "            <td>16A</td>\n",
       "            <td>8</td>\n",
       "        </tr>\n",
       "        <tr>\n",
       "            <td>30075445</td>\n",
       "            <td>2011-11-23 00:00:00</td>\n",
       "            <td>06C</td>\n",
       "            <td>8</td>\n",
       "        </tr>\n",
       "        <tr>\n",
       "            <td>30075445</td>\n",
       "            <td>2011-11-23 00:00:00</td>\n",
       "            <td>10B</td>\n",
       "            <td>8</td>\n",
       "        </tr>\n",
       "        <tr>\n",
       "            <td>30075445</td>\n",
       "            <td>2011-11-23 00:00:00</td>\n",
       "            <td>10H</td>\n",
       "            <td>8</td>\n",
       "        </tr>\n",
       "        <tr>\n",
       "            <td>30075445</td>\n",
       "            <td>2012-12-31 00:00:00</td>\n",
       "            <td>02G</td>\n",
       "            <td>8</td>\n",
       "        </tr>\n",
       "        <tr>\n",
       "            <td>30075445</td>\n",
       "            <td>2012-12-31 00:00:00</td>\n",
       "            <td>04L</td>\n",
       "            <td>8</td>\n",
       "        </tr>\n",
       "        <tr>\n",
       "            <td>30075445</td>\n",
       "            <td>2012-12-31 00:00:00</td>\n",
       "            <td>06C</td>\n",
       "            <td>8</td>\n",
       "        </tr>\n",
       "    </tbody>\n",
       "</table>"
      ],
      "text/plain": [
       "[(30075445, '2011-03-10 00:00:00', '04L', 8),\n",
       " (30075445, '2011-03-10 00:00:00', '10F', 8),\n",
       " (30075445, '2011-03-10 00:00:00', '10I', 8),\n",
       " (30075445, '2011-03-10 00:00:00', '16A', 8),\n",
       " (30075445, '2011-11-23 00:00:00', '06C', 8),\n",
       " (30075445, '2011-11-23 00:00:00', '10B', 8),\n",
       " (30075445, '2011-11-23 00:00:00', '10H', 8),\n",
       " (30075445, '2012-12-31 00:00:00', '02G', 8),\n",
       " (30075445, '2012-12-31 00:00:00', '04L', 8),\n",
       " (30075445, '2012-12-31 00:00:00', '06C', 8)]"
      ]
     },
     "execution_count": 25,
     "metadata": {},
     "output_type": "execute_result"
    }
   ],
   "source": [
    "%%sql\n",
    "\n",
    "select * from table1\n",
    "WHERE camis = 30075445\n",
    "group by CAMIS, INSPDATE, VIOLCODE\n",
    "ORDER BY CAMIS, INSPDATE\n",
    "limit 10"
   ]
  },
  {
   "cell_type": "markdown",
   "id": "8ac34de7",
   "metadata": {},
   "source": [
    "Given that most restaurants undergo multiple inspections, each potentially revealing multiple violations, or may experience extended periods without any violations\n",
    "\n",
    "In order to address this normalization I will calculate a violation rate by dividing the total number of violations by the duration (in years) the restaurant has been in operation. To estimate this duration, I will determine the time difference between the oldest and newest inspection dates. For instances where the duration is less than 30 days, we will assume it to be 30 days to account for restaurants inspected only once."
   ]
  },
  {
   "cell_type": "code",
   "execution_count": 26,
   "id": "12e1a3f5",
   "metadata": {},
   "outputs": [
    {
     "name": "stdout",
     "output_type": "stream",
     "text": [
      " * sqlite:///information_schema.db\n",
      "Done.\n",
      "Done.\n"
     ]
    },
    {
     "data": {
      "text/plain": [
       "[]"
      ]
     },
     "execution_count": 26,
     "metadata": {},
     "output_type": "execute_result"
    }
   ],
   "source": [
    "%%sql \n",
    "\n",
    "DROP TABLE if EXISTS cuisine1;\n",
    "\n",
    "CREATE TEMP TABLE cuisine1 AS\n",
    "\n",
    "SELECT CAMIS, CUISINECODE, (JULIANDAY(MAX(INSPDATE))-JULIANDAY(MIN(INSPDATE))) as resturaunt_days, COUNT(1) as num_violations\n",
    "FROM table1\n",
    "GROUP BY CAMIS"
   ]
  },
  {
   "cell_type": "code",
   "execution_count": 27,
   "id": "816dc26b",
   "metadata": {},
   "outputs": [
    {
     "name": "stdout",
     "output_type": "stream",
     "text": [
      " * sqlite:///information_schema.db\n",
      "2260 rows affected.\n"
     ]
    },
    {
     "data": {
      "text/plain": [
       "[]"
      ]
     },
     "execution_count": 27,
     "metadata": {},
     "output_type": "execute_result"
    }
   ],
   "source": [
    "%%sql \n",
    "\n",
    "UPDATE cuisine1\n",
    "SET resturaunt_days = 30\n",
    "WHERE resturaunt_days < 30;"
   ]
  },
  {
   "cell_type": "code",
   "execution_count": 28,
   "id": "80d807b5",
   "metadata": {},
   "outputs": [
    {
     "name": "stdout",
     "output_type": "stream",
     "text": [
      " * sqlite:///information_schema.db\n",
      "Done.\n",
      "Done.\n"
     ]
    },
    {
     "data": {
      "text/plain": [
       "[]"
      ]
     },
     "execution_count": 28,
     "metadata": {},
     "output_type": "execute_result"
    }
   ],
   "source": [
    "%%sql \n",
    "\n",
    "DROP TABLE if EXISTS cuisine2;\n",
    "\n",
    "CREATE TEMP TABLE cuisine2 AS\n",
    "\n",
    "SELECT CUISINECODE, (SUM(resturaunt_days)/365) as total_years, SUM(num_violations) as total_violations\n",
    "FROM cuisine1\n",
    "GROUP BY CUISINECODE\n",
    "HAVING total_violations > 100"
   ]
  },
  {
   "cell_type": "code",
   "execution_count": 29,
   "id": "afbc04bd",
   "metadata": {},
   "outputs": [
    {
     "name": "stdout",
     "output_type": "stream",
     "text": [
      " * sqlite:///information_schema.db\n",
      "Done.\n",
      "Done.\n"
     ]
    },
    {
     "data": {
      "text/plain": [
       "[]"
      ]
     },
     "execution_count": 29,
     "metadata": {},
     "output_type": "execute_result"
    }
   ],
   "source": [
    "%%sql \n",
    "\n",
    "DROP TABLE if EXISTS cuisine3;\n",
    "\n",
    "CREATE TEMP TABLE cuisine3 AS\n",
    "\n",
    "select c.CODEDESC, (c2.total_violations/c2.total_years) as reports_per_year\n",
    "FROM cuisine2 as c2 JOIN cuisine as c\n",
    "ON c.CUISINECODE = c2.CUISINECODE"
   ]
  },
  {
   "cell_type": "code",
   "execution_count": 30,
   "id": "51f9f5e8",
   "metadata": {},
   "outputs": [
    {
     "name": "stdout",
     "output_type": "stream",
     "text": [
      " * sqlite:///information_schema.db\n",
      "Done.\n"
     ]
    },
    {
     "data": {
      "text/html": [
       "<table>\n",
       "    <thead>\n",
       "        <tr>\n",
       "            <th>CODEDESC</th>\n",
       "            <th>reports_per_year</th>\n",
       "        </tr>\n",
       "    </thead>\n",
       "    <tbody>\n",
       "        <tr>\n",
       "            <td>Hotdogs/Pretzels</td>\n",
       "            <td>4.29350164969158</td>\n",
       "        </tr>\n",
       "        <tr>\n",
       "            <td>Soups &amp; Sandwiches</td>\n",
       "            <td>6.01755371436596</td>\n",
       "        </tr>\n",
       "        <tr>\n",
       "            <td>Donuts</td>\n",
       "            <td>6.166799725218618</td>\n",
       "        </tr>\n",
       "        <tr>\n",
       "            <td>Ice Cream, Gelato, Yogurt, Ices</td>\n",
       "            <td>6.337295068616821</td>\n",
       "        </tr>\n",
       "        <tr>\n",
       "            <td>Hotdogs</td>\n",
       "            <td>6.453558961906207</td>\n",
       "        </tr>\n",
       "        <tr>\n",
       "            <td>Sandwiches</td>\n",
       "            <td>6.661998352034242</td>\n",
       "        </tr>\n",
       "        <tr>\n",
       "            <td>Café/Coffee/Tea</td>\n",
       "            <td>6.7971463492951765</td>\n",
       "        </tr>\n",
       "        <tr>\n",
       "            <td>Bottled beverages, including water, sodas, juices, etc.</td>\n",
       "            <td>7.151427703523694</td>\n",
       "        </tr>\n",
       "        <tr>\n",
       "            <td>Juice, Smoothies, Fruit Salads</td>\n",
       "            <td>7.206375961890802</td>\n",
       "        </tr>\n",
       "        <tr>\n",
       "            <td>Not Listed/Not Applicable</td>\n",
       "            <td>7.443268935909231</td>\n",
       "        </tr>\n",
       "        <tr>\n",
       "            <td>Hamburgers</td>\n",
       "            <td>7.489370256931917</td>\n",
       "        </tr>\n",
       "        <tr>\n",
       "            <td>Sandwiches/Salads/Mixed Buffet</td>\n",
       "            <td>7.581922841560921</td>\n",
       "        </tr>\n",
       "        <tr>\n",
       "            <td>Ethiopian</td>\n",
       "            <td>8.599401150421558</td>\n",
       "        </tr>\n",
       "        <tr>\n",
       "            <td>Barbecue</td>\n",
       "            <td>8.885478408128703</td>\n",
       "        </tr>\n",
       "        <tr>\n",
       "            <td>Other</td>\n",
       "            <td>9.209540705696828</td>\n",
       "        </tr>\n",
       "        <tr>\n",
       "            <td>English</td>\n",
       "            <td>9.38475665748393</td>\n",
       "        </tr>\n",
       "        <tr>\n",
       "            <td>Steak</td>\n",
       "            <td>9.43225899488067</td>\n",
       "        </tr>\n",
       "        <tr>\n",
       "            <td>Cajun</td>\n",
       "            <td>9.610852487634565</td>\n",
       "        </tr>\n",
       "        <tr>\n",
       "            <td>American </td>\n",
       "            <td>9.77656602675186</td>\n",
       "        </tr>\n",
       "        <tr>\n",
       "            <td>Salads</td>\n",
       "            <td>9.824016563146998</td>\n",
       "        </tr>\n",
       "        <tr>\n",
       "            <td>Irish</td>\n",
       "            <td>10.034512323167057</td>\n",
       "        </tr>\n",
       "        <tr>\n",
       "            <td>Egyptian</td>\n",
       "            <td>10.103080082135525</td>\n",
       "        </tr>\n",
       "        <tr>\n",
       "            <td>Pizza</td>\n",
       "            <td>10.152385307512088</td>\n",
       "        </tr>\n",
       "        <tr>\n",
       "            <td>Czech</td>\n",
       "            <td>10.174216027874564</td>\n",
       "        </tr>\n",
       "        <tr>\n",
       "            <td>Chicken</td>\n",
       "            <td>10.18704649993622</td>\n",
       "        </tr>\n",
       "        <tr>\n",
       "            <td>Armenian</td>\n",
       "            <td>10.22377591724017</td>\n",
       "        </tr>\n",
       "        <tr>\n",
       "            <td>Continental</td>\n",
       "            <td>10.229509121154877</td>\n",
       "        </tr>\n",
       "        <tr>\n",
       "            <td>Bagels/Pretzels</td>\n",
       "            <td>10.28378243474655</td>\n",
       "        </tr>\n",
       "        <tr>\n",
       "            <td>Greek</td>\n",
       "            <td>10.37031450756941</td>\n",
       "        </tr>\n",
       "        <tr>\n",
       "            <td>Middle Eastern</td>\n",
       "            <td>10.521933171259738</td>\n",
       "        </tr>\n",
       "        <tr>\n",
       "            <td>French</td>\n",
       "            <td>10.602273879241105</td>\n",
       "        </tr>\n",
       "        <tr>\n",
       "            <td>Vegetarian</td>\n",
       "            <td>10.629656403523008</td>\n",
       "        </tr>\n",
       "        <tr>\n",
       "            <td>Tex-Mex</td>\n",
       "            <td>10.684725357411587</td>\n",
       "        </tr>\n",
       "        <tr>\n",
       "            <td>Scandinavian</td>\n",
       "            <td>10.709925167388736</td>\n",
       "        </tr>\n",
       "        <tr>\n",
       "            <td>Southwestern</td>\n",
       "            <td>10.750643408635973</td>\n",
       "        </tr>\n",
       "        <tr>\n",
       "            <td>Polish</td>\n",
       "            <td>10.913521103493846</td>\n",
       "        </tr>\n",
       "        <tr>\n",
       "            <td>Bakery</td>\n",
       "            <td>10.982626040433603</td>\n",
       "        </tr>\n",
       "        <tr>\n",
       "            <td>Italian</td>\n",
       "            <td>10.985892978225811</td>\n",
       "        </tr>\n",
       "        <tr>\n",
       "            <td>Mediterranean</td>\n",
       "            <td>11.040169348502925</td>\n",
       "        </tr>\n",
       "        <tr>\n",
       "            <td>Australian</td>\n",
       "            <td>11.130763600878263</td>\n",
       "        </tr>\n",
       "        <tr>\n",
       "            <td>Russian</td>\n",
       "            <td>11.205127045845014</td>\n",
       "        </tr>\n",
       "        <tr>\n",
       "            <td>Seafood</td>\n",
       "            <td>11.224518672942862</td>\n",
       "        </tr>\n",
       "        <tr>\n",
       "            <td>Pizza/Italian</td>\n",
       "            <td>11.228614539516581</td>\n",
       "        </tr>\n",
       "        <tr>\n",
       "            <td>Moroccan</td>\n",
       "            <td>11.233220560951654</td>\n",
       "        </tr>\n",
       "        <tr>\n",
       "            <td>Jewish/Kosher</td>\n",
       "            <td>11.245254767610762</td>\n",
       "        </tr>\n",
       "        <tr>\n",
       "            <td>Tapas</td>\n",
       "            <td>11.310428089944162</td>\n",
       "        </tr>\n",
       "        <tr>\n",
       "            <td>Pancakes/Waffles</td>\n",
       "            <td>11.490792389394054</td>\n",
       "        </tr>\n",
       "        <tr>\n",
       "            <td>German</td>\n",
       "            <td>11.499778385166579</td>\n",
       "        </tr>\n",
       "        <tr>\n",
       "            <td>Soul Food</td>\n",
       "            <td>11.645076110593353</td>\n",
       "        </tr>\n",
       "        <tr>\n",
       "            <td>Turkish</td>\n",
       "            <td>11.978794786872554</td>\n",
       "        </tr>\n",
       "        <tr>\n",
       "            <td>Mexican</td>\n",
       "            <td>12.11791755536293</td>\n",
       "        </tr>\n",
       "        <tr>\n",
       "            <td>Caribbean</td>\n",
       "            <td>12.131565486055695</td>\n",
       "        </tr>\n",
       "        <tr>\n",
       "            <td>Eastern European</td>\n",
       "            <td>12.277377880392956</td>\n",
       "        </tr>\n",
       "        <tr>\n",
       "            <td>Afghan</td>\n",
       "            <td>12.402096291177148</td>\n",
       "        </tr>\n",
       "        <tr>\n",
       "            <td>Japanese</td>\n",
       "            <td>12.42160156732359</td>\n",
       "        </tr>\n",
       "        <tr>\n",
       "            <td>Delicatessen</td>\n",
       "            <td>12.758435437579218</td>\n",
       "        </tr>\n",
       "        <tr>\n",
       "            <td>Brazilian</td>\n",
       "            <td>12.836685269032325</td>\n",
       "        </tr>\n",
       "        <tr>\n",
       "            <td>Vietnamese/Cambodian/Malaysia</td>\n",
       "            <td>12.960374987919202</td>\n",
       "        </tr>\n",
       "        <tr>\n",
       "            <td>Thai</td>\n",
       "            <td>12.97133307158208</td>\n",
       "        </tr>\n",
       "        <tr>\n",
       "            <td>Filipino</td>\n",
       "            <td>13.104223390109542</td>\n",
       "        </tr>\n",
       "        <tr>\n",
       "            <td>African</td>\n",
       "            <td>13.133157752043068</td>\n",
       "        </tr>\n",
       "        <tr>\n",
       "            <td>Latin (Cuban, Dominican, Puerto Rican, South &amp; Central American)</td>\n",
       "            <td>13.191975216061666</td>\n",
       "        </tr>\n",
       "        <tr>\n",
       "            <td>Korean</td>\n",
       "            <td>13.338966187084445</td>\n",
       "        </tr>\n",
       "        <tr>\n",
       "            <td>Chinese</td>\n",
       "            <td>13.40115522682921</td>\n",
       "        </tr>\n",
       "        <tr>\n",
       "            <td>Spanish</td>\n",
       "            <td>13.444522098906935</td>\n",
       "        </tr>\n",
       "        <tr>\n",
       "            <td>Indian</td>\n",
       "            <td>13.463322591777557</td>\n",
       "        </tr>\n",
       "        <tr>\n",
       "            <td>Asian</td>\n",
       "            <td>13.74636170547514</td>\n",
       "        </tr>\n",
       "        <tr>\n",
       "            <td>Indonesian</td>\n",
       "            <td>13.762714836899333</td>\n",
       "        </tr>\n",
       "        <tr>\n",
       "            <td>Peruvian</td>\n",
       "            <td>13.785918968399269</td>\n",
       "        </tr>\n",
       "        <tr>\n",
       "            <td>Bangladeshi</td>\n",
       "            <td>14.232814371257485</td>\n",
       "        </tr>\n",
       "        <tr>\n",
       "            <td>Chinese/Cuban</td>\n",
       "            <td>14.893090569561158</td>\n",
       "        </tr>\n",
       "        <tr>\n",
       "            <td>Pakistani</td>\n",
       "            <td>15.037384584504215</td>\n",
       "        </tr>\n",
       "        <tr>\n",
       "            <td>Portuguese</td>\n",
       "            <td>15.227272727272727</td>\n",
       "        </tr>\n",
       "        <tr>\n",
       "            <td>Chinese/Japanese</td>\n",
       "            <td>15.70949830798042</td>\n",
       "        </tr>\n",
       "        <tr>\n",
       "            <td>Creole</td>\n",
       "            <td>16.065058385730786</td>\n",
       "        </tr>\n",
       "    </tbody>\n",
       "</table>"
      ],
      "text/plain": [
       "[('Hotdogs/Pretzels', 4.29350164969158),\n",
       " ('Soups & Sandwiches', 6.01755371436596),\n",
       " ('Donuts', 6.166799725218618),\n",
       " ('Ice Cream, Gelato, Yogurt, Ices', 6.337295068616821),\n",
       " ('Hotdogs', 6.453558961906207),\n",
       " ('Sandwiches', 6.661998352034242),\n",
       " ('Café/Coffee/Tea', 6.7971463492951765),\n",
       " ('Bottled beverages, including water, sodas, juices, etc.', 7.151427703523694),\n",
       " ('Juice, Smoothies, Fruit Salads', 7.206375961890802),\n",
       " ('Not Listed/Not Applicable', 7.443268935909231),\n",
       " ('Hamburgers', 7.489370256931917),\n",
       " ('Sandwiches/Salads/Mixed Buffet', 7.581922841560921),\n",
       " ('Ethiopian', 8.599401150421558),\n",
       " ('Barbecue', 8.885478408128703),\n",
       " ('Other', 9.209540705696828),\n",
       " ('English', 9.38475665748393),\n",
       " ('Steak', 9.43225899488067),\n",
       " ('Cajun', 9.610852487634565),\n",
       " ('American ', 9.77656602675186),\n",
       " ('Salads', 9.824016563146998),\n",
       " ('Irish', 10.034512323167057),\n",
       " ('Egyptian', 10.103080082135525),\n",
       " ('Pizza', 10.152385307512088),\n",
       " ('Czech', 10.174216027874564),\n",
       " ('Chicken', 10.18704649993622),\n",
       " ('Armenian', 10.22377591724017),\n",
       " ('Continental', 10.229509121154877),\n",
       " ('Bagels/Pretzels', 10.28378243474655),\n",
       " ('Greek', 10.37031450756941),\n",
       " ('Middle Eastern', 10.521933171259738),\n",
       " ('French', 10.602273879241105),\n",
       " ('Vegetarian', 10.629656403523008),\n",
       " ('Tex-Mex', 10.684725357411587),\n",
       " ('Scandinavian', 10.709925167388736),\n",
       " ('Southwestern', 10.750643408635973),\n",
       " ('Polish', 10.913521103493846),\n",
       " ('Bakery', 10.982626040433603),\n",
       " ('Italian', 10.985892978225811),\n",
       " ('Mediterranean', 11.040169348502925),\n",
       " ('Australian', 11.130763600878263),\n",
       " ('Russian', 11.205127045845014),\n",
       " ('Seafood', 11.224518672942862),\n",
       " ('Pizza/Italian', 11.228614539516581),\n",
       " ('Moroccan', 11.233220560951654),\n",
       " ('Jewish/Kosher', 11.245254767610762),\n",
       " ('Tapas', 11.310428089944162),\n",
       " ('Pancakes/Waffles', 11.490792389394054),\n",
       " ('German', 11.499778385166579),\n",
       " ('Soul Food', 11.645076110593353),\n",
       " ('Turkish', 11.978794786872554),\n",
       " ('Mexican', 12.11791755536293),\n",
       " ('Caribbean', 12.131565486055695),\n",
       " ('Eastern European', 12.277377880392956),\n",
       " ('Afghan', 12.402096291177148),\n",
       " ('Japanese', 12.42160156732359),\n",
       " ('Delicatessen', 12.758435437579218),\n",
       " ('Brazilian', 12.836685269032325),\n",
       " ('Vietnamese/Cambodian/Malaysia', 12.960374987919202),\n",
       " ('Thai', 12.97133307158208),\n",
       " ('Filipino', 13.104223390109542),\n",
       " ('African', 13.133157752043068),\n",
       " ('Latin (Cuban, Dominican, Puerto Rican, South & Central American)', 13.191975216061666),\n",
       " ('Korean', 13.338966187084445),\n",
       " ('Chinese', 13.40115522682921),\n",
       " ('Spanish', 13.444522098906935),\n",
       " ('Indian', 13.463322591777557),\n",
       " ('Asian', 13.74636170547514),\n",
       " ('Indonesian', 13.762714836899333),\n",
       " ('Peruvian', 13.785918968399269),\n",
       " ('Bangladeshi', 14.232814371257485),\n",
       " ('Chinese/Cuban', 14.893090569561158),\n",
       " ('Pakistani', 15.037384584504215),\n",
       " ('Portuguese', 15.227272727272727),\n",
       " ('Chinese/Japanese', 15.70949830798042),\n",
       " ('Creole', 16.065058385730786)]"
      ]
     },
     "execution_count": 30,
     "metadata": {},
     "output_type": "execute_result"
    }
   ],
   "source": [
    "%%sql\n",
    "\n",
    "select * from cuisine3\n",
    "ORDER BY reports_per_year"
   ]
  }
 ],
 "metadata": {
  "kernelspec": {
   "display_name": "Python 3 (ipykernel)",
   "language": "python",
   "name": "python3"
  },
  "language_info": {
   "codemirror_mode": {
    "name": "ipython",
    "version": 3
   },
   "file_extension": ".py",
   "mimetype": "text/x-python",
   "name": "python",
   "nbconvert_exporter": "python",
   "pygments_lexer": "ipython3",
   "version": "3.10.9"
  }
 },
 "nbformat": 4,
 "nbformat_minor": 5
}
